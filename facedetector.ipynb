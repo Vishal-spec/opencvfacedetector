{
 "cells": [
  {
   "cell_type": "code",
   "execution_count": 1,
   "metadata": {},
   "outputs": [],
   "source": [
    "import cv2\n",
    "face_cascade=cv2.CascadeClassifier(\"haarcascade_frontalface_default.xml\")\n",
    "fourcc=cv2.VideoWriter_fourcc(\"X\",\"V\",\"I\",\"D\")\n",
    "out=cv2.VideoWriter(\"rgfu.avi\",fourcc,40.0,(640,480),1)\n",
    "cap=cv2.VideoCapture(0)\n",
    "while True:\n",
    "    _,img=cap.read()\n",
    "    gray=cv2.cvtColor(img,cv2.COLOR_BGR2GRAY)\n",
    "    faces=face_cascade.detectMultiScale(gray,1.7,4)\n",
    "    for (x,y,w,h) in faces:\n",
    "        cv2.rectangle(img,(x,y),(x+w,y+h),(255,0,0),3)\n",
    "    cv2.imshow(\"img\",img)\n",
    "    out.write(img)\n",
    "    if cv2.waitKey(0)==ord(\"q\"):\n",
    "        cv2.destroyAllWindows()\n",
    "        break\n",
    "cap.release()"
   ]
  },
  {
   "cell_type": "code",
   "execution_count": 4,
   "metadata": {},
   "outputs": [],
   "source": [
    "import cv2\n",
    "face_cascade=cv2.CascadeClassifier(\"haarcascade_frontalface_default.xml\")\n",
    "eye_cascade=cv2.CascadeClassifier(\"haarcascade_eye_tree_eyeglasses.xml\")\n",
    "cp=cv2.VideoCapture(0)\n",
    "while True:\n",
    "    ret,img=cp.read()\n",
    "    gray=cv2.cvtColor(img,cv2.COLOR_BGR2GRAY)\n",
    "    faces=face_cascade.detectMultiScale(gray,1.5,4)\n",
    "    for (x,y,w,h) in faces:\n",
    "        cv2.rectangle(img,(x,y),(x+w,y+h),(255,0,0),3)\n",
    "    eyes=eye_cascade.detectMultiScale(roi_gray,1.1,4)\n",
    "    for (ex,ey,ew,eh) in eyes:\n",
    "        cv2.rectangle(img,(ex,ey),(ex+ew,ey+eh),(255,0,0),5)\n",
    "    cv2.imshow(\"img\",img)\n",
    "    if cv2.waitKey()==ord(\"q\"):\n",
    "        cv2.destroyAllWindows()\n",
    "        break\n",
    "cp.release()"
   ]
  },
  {
   "cell_type": "raw",
   "metadata": {},
   "source": []
  }
 ],
 "metadata": {
  "kernelspec": {
   "display_name": "Python 3",
   "language": "python",
   "name": "python3"
  },
  "language_info": {
   "codemirror_mode": {
    "name": "ipython",
    "version": 3
   },
   "file_extension": ".py",
   "mimetype": "text/x-python",
   "name": "python",
   "nbconvert_exporter": "python",
   "pygments_lexer": "ipython3",
   "version": "3.7.4"
  }
 },
 "nbformat": 4,
 "nbformat_minor": 2
}
